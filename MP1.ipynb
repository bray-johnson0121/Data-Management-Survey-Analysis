{
 "cells": [
  {
   "cell_type": "code",
   "execution_count": 2,
   "metadata": {},
   "outputs": [],
   "source": [
    "import pandas as pd\n"
   ]
  },
  {
   "cell_type": "code",
   "execution_count": 3,
   "metadata": {},
   "outputs": [
    {
     "data": {
      "text/html": [
       "<div>\n",
       "<style scoped>\n",
       "    .dataframe tbody tr th:only-of-type {\n",
       "        vertical-align: middle;\n",
       "    }\n",
       "\n",
       "    .dataframe tbody tr th {\n",
       "        vertical-align: top;\n",
       "    }\n",
       "\n",
       "    .dataframe thead th {\n",
       "        text-align: right;\n",
       "    }\n",
       "</style>\n",
       "<table border=\"1\" class=\"dataframe\">\n",
       "  <thead>\n",
       "    <tr style=\"text-align: right;\">\n",
       "      <th></th>\n",
       "      <th>Timestamp</th>\n",
       "      <th>What is your current employment status?</th>\n",
       "      <th>What is your age?</th>\n",
       "      <th>What is your gender?</th>\n",
       "      <th>How familiar are you with mental health issues?</th>\n",
       "      <th>Which of these is a mental health illness you have heard of?</th>\n",
       "      <th>What does \"mental health\" mean to you?</th>\n",
       "      <th>Do you believe there is a stigma associated with mental health?</th>\n",
       "      <th>What role do you think social media has with the perceptions of mental health?</th>\n",
       "      <th>Which of these do you think is the most common misconception with mental health.</th>\n",
       "      <th>In your opinion, are there specific life events that could trigger mental health concerns?</th>\n",
       "      <th>Have you ever experienced a mental health disorder?</th>\n",
       "      <th>Has someone you know ever experienced a mental health disorder?</th>\n",
       "      <th>Where do you commonly see information about mental health?</th>\n",
       "      <th>Why do you think it is important to raise awareness for mental health?</th>\n",
       "      <th>Why do you think it is important to discuss mental health during significant life events?</th>\n",
       "      <th>Why do you think it is important for environments like work and school to raise awareness for mental health?</th>\n",
       "    </tr>\n",
       "  </thead>\n",
       "  <tbody>\n",
       "    <tr>\n",
       "      <th>0</th>\n",
       "      <td>1/23/2024 17:34:57</td>\n",
       "      <td>Employed full-time</td>\n",
       "      <td>46-55</td>\n",
       "      <td>Female</td>\n",
       "      <td>2</td>\n",
       "      <td>Anxiety Disorders, Depression, OCD(Obessive-co...</td>\n",
       "      <td>The state of being… how you mentally feel</td>\n",
       "      <td>Yes</td>\n",
       "      <td>Negative Impact</td>\n",
       "      <td>Mental health is a sign of weakness</td>\n",
       "      <td>Yes</td>\n",
       "      <td>Maybe</td>\n",
       "      <td>Yes</td>\n",
       "      <td>Social Media</td>\n",
       "      <td>To normalize mental health difficulties</td>\n",
       "      <td>To normalize the emotional aspects of major li...</td>\n",
       "      <td>To create a stigma free environment</td>\n",
       "    </tr>\n",
       "    <tr>\n",
       "      <th>1</th>\n",
       "      <td>1/23/2024 18:32:39</td>\n",
       "      <td>Student</td>\n",
       "      <td>18-25</td>\n",
       "      <td>Female</td>\n",
       "      <td>4</td>\n",
       "      <td>Anxiety Disorders, Depression, OCD(Obessive-co...</td>\n",
       "      <td>how you take care of your self</td>\n",
       "      <td>Yes</td>\n",
       "      <td>Negative Impact</td>\n",
       "      <td>Mental health is a sign of weakness</td>\n",
       "      <td>Yes</td>\n",
       "      <td>Yes</td>\n",
       "      <td>Yes</td>\n",
       "      <td>Social Media</td>\n",
       "      <td>To encourage seeking help</td>\n",
       "      <td>To provide support during challenging times</td>\n",
       "      <td>To create a stigma free environment</td>\n",
       "    </tr>\n",
       "    <tr>\n",
       "      <th>2</th>\n",
       "      <td>1/23/2024 18:36:24</td>\n",
       "      <td>Student</td>\n",
       "      <td>18-25</td>\n",
       "      <td>Female</td>\n",
       "      <td>3</td>\n",
       "      <td>Anxiety Disorders, Depression, OCD(Obessive-co...</td>\n",
       "      <td>What Mental health means to me is medically di...</td>\n",
       "      <td>Yes</td>\n",
       "      <td>Neutral</td>\n",
       "      <td>Mental health disorders are a choice</td>\n",
       "      <td>Yes</td>\n",
       "      <td>Maybe</td>\n",
       "      <td>Yes</td>\n",
       "      <td>Social Media</td>\n",
       "      <td>To encourage seeking help</td>\n",
       "      <td>To raise awareness about the impact on mental ...</td>\n",
       "      <td>To encourage open communication about mental h...</td>\n",
       "    </tr>\n",
       "    <tr>\n",
       "      <th>3</th>\n",
       "      <td>1/23/2024 18:36:35</td>\n",
       "      <td>Student</td>\n",
       "      <td>18-25</td>\n",
       "      <td>Female</td>\n",
       "      <td>4</td>\n",
       "      <td>Anxiety Disorders, Depression, OCD(Obessive-co...</td>\n",
       "      <td>Health and caring for the brain</td>\n",
       "      <td>Yes</td>\n",
       "      <td>Negative Impact</td>\n",
       "      <td>Mental health disorders are a choice</td>\n",
       "      <td>Yes</td>\n",
       "      <td>Yes</td>\n",
       "      <td>Yes</td>\n",
       "      <td>Work/School</td>\n",
       "      <td>To normalize mental health difficulties</td>\n",
       "      <td>To normalize the emotional aspects of major li...</td>\n",
       "      <td>To support the mental well-being of students/e...</td>\n",
       "    </tr>\n",
       "    <tr>\n",
       "      <th>4</th>\n",
       "      <td>1/23/2024 19:29:37</td>\n",
       "      <td>Employed part-time</td>\n",
       "      <td>18-25</td>\n",
       "      <td>Female</td>\n",
       "      <td>3</td>\n",
       "      <td>Anxiety Disorders, Depression, OCD(Obessive-co...</td>\n",
       "      <td>The well being of one’s mind.</td>\n",
       "      <td>Yes</td>\n",
       "      <td>Negative Impact</td>\n",
       "      <td>Mental health illnesses are rare</td>\n",
       "      <td>Yes</td>\n",
       "      <td>Yes</td>\n",
       "      <td>Yes</td>\n",
       "      <td>Social Media</td>\n",
       "      <td>To encourage seeking help</td>\n",
       "      <td>To normalize the emotional aspects of major li...</td>\n",
       "      <td>To support the mental well-being of students/e...</td>\n",
       "    </tr>\n",
       "  </tbody>\n",
       "</table>\n",
       "</div>"
      ],
      "text/plain": [
       "            Timestamp What is your current employment status?  \\\n",
       "0  1/23/2024 17:34:57                      Employed full-time   \n",
       "1  1/23/2024 18:32:39                                 Student   \n",
       "2  1/23/2024 18:36:24                                 Student   \n",
       "3  1/23/2024 18:36:35                                 Student   \n",
       "4  1/23/2024 19:29:37                      Employed part-time   \n",
       "\n",
       "  What is your age? What is your gender?  \\\n",
       "0             46-55               Female   \n",
       "1             18-25               Female   \n",
       "2             18-25               Female   \n",
       "3             18-25               Female   \n",
       "4             18-25               Female   \n",
       "\n",
       "   How familiar are you with mental health issues?  \\\n",
       "0                                                2   \n",
       "1                                                4   \n",
       "2                                                3   \n",
       "3                                                4   \n",
       "4                                                3   \n",
       "\n",
       "  Which of these is a mental health illness you have heard of?  \\\n",
       "0  Anxiety Disorders, Depression, OCD(Obessive-co...             \n",
       "1  Anxiety Disorders, Depression, OCD(Obessive-co...             \n",
       "2  Anxiety Disorders, Depression, OCD(Obessive-co...             \n",
       "3  Anxiety Disorders, Depression, OCD(Obessive-co...             \n",
       "4  Anxiety Disorders, Depression, OCD(Obessive-co...             \n",
       "\n",
       "              What does \"mental health\" mean to you?  \\\n",
       "0         The state of being… how you mentally feel    \n",
       "1                     how you take care of your self   \n",
       "2  What Mental health means to me is medically di...   \n",
       "3                    Health and caring for the brain   \n",
       "4                     The well being of one’s mind.    \n",
       "\n",
       "  Do you believe there is a stigma associated with mental health?  \\\n",
       "0                                                Yes                \n",
       "1                                                Yes                \n",
       "2                                                Yes                \n",
       "3                                                Yes                \n",
       "4                                                Yes                \n",
       "\n",
       "  What role do you think social media has with the perceptions of mental health?  \\\n",
       "0                                    Negative Impact                               \n",
       "1                                    Negative Impact                               \n",
       "2                                            Neutral                               \n",
       "3                                    Negative Impact                               \n",
       "4                                    Negative Impact                               \n",
       "\n",
       "  Which of these do you think is the most common misconception with mental health.  \\\n",
       "0                Mental health is a sign of weakness                                 \n",
       "1                Mental health is a sign of weakness                                 \n",
       "2               Mental health disorders are a choice                                 \n",
       "3               Mental health disorders are a choice                                 \n",
       "4                   Mental health illnesses are rare                                 \n",
       "\n",
       "  In your opinion, are there specific life events that could trigger mental health concerns?  \\\n",
       "0                                                Yes                                           \n",
       "1                                                Yes                                           \n",
       "2                                                Yes                                           \n",
       "3                                                Yes                                           \n",
       "4                                                Yes                                           \n",
       "\n",
       "  Have you ever experienced a mental health disorder?  \\\n",
       "0                                              Maybe    \n",
       "1                                                Yes    \n",
       "2                                              Maybe    \n",
       "3                                                Yes    \n",
       "4                                                Yes    \n",
       "\n",
       "  Has someone you know ever experienced a mental health disorder?  \\\n",
       "0                                                Yes                \n",
       "1                                                Yes                \n",
       "2                                                Yes                \n",
       "3                                                Yes                \n",
       "4                                                Yes                \n",
       "\n",
       "  Where do you commonly see information about mental health?  \\\n",
       "0                                       Social Media           \n",
       "1                                       Social Media           \n",
       "2                                       Social Media           \n",
       "3                                        Work/School           \n",
       "4                                       Social Media           \n",
       "\n",
       "  Why do you think it is important to raise awareness for mental health?  \\\n",
       "0            To normalize mental health difficulties                       \n",
       "1                          To encourage seeking help                       \n",
       "2                          To encourage seeking help                       \n",
       "3            To normalize mental health difficulties                       \n",
       "4                          To encourage seeking help                       \n",
       "\n",
       "  Why do you think it is important to discuss mental health during significant life events?  \\\n",
       "0  To normalize the emotional aspects of major li...                                          \n",
       "1        To provide support during challenging times                                          \n",
       "2  To raise awareness about the impact on mental ...                                          \n",
       "3  To normalize the emotional aspects of major li...                                          \n",
       "4  To normalize the emotional aspects of major li...                                          \n",
       "\n",
       "  Why do you think it is important for environments like work and school to raise awareness for mental health?  \n",
       "0                To create a stigma free environment                                                            \n",
       "1                To create a stigma free environment                                                            \n",
       "2  To encourage open communication about mental h...                                                            \n",
       "3  To support the mental well-being of students/e...                                                            \n",
       "4  To support the mental well-being of students/e...                                                            "
      ]
     },
     "execution_count": 3,
     "metadata": {},
     "output_type": "execute_result"
    }
   ],
   "source": [
    "rawSurveyDF = pd.read_csv(\"Survey.csv\")\n",
    "rawSurveyDF.head()"
   ]
  },
  {
   "cell_type": "code",
   "execution_count": 4,
   "metadata": {},
   "outputs": [
    {
     "data": {
      "text/html": [
       "<div>\n",
       "<style scoped>\n",
       "    .dataframe tbody tr th:only-of-type {\n",
       "        vertical-align: middle;\n",
       "    }\n",
       "\n",
       "    .dataframe tbody tr th {\n",
       "        vertical-align: top;\n",
       "    }\n",
       "\n",
       "    .dataframe thead th {\n",
       "        text-align: right;\n",
       "    }\n",
       "</style>\n",
       "<table border=\"1\" class=\"dataframe\">\n",
       "  <thead>\n",
       "    <tr style=\"text-align: right;\">\n",
       "      <th></th>\n",
       "      <th>Timestamp</th>\n",
       "      <th>What is your current employment status?</th>\n",
       "      <th>What is your age?</th>\n",
       "      <th>What is your gender?</th>\n",
       "      <th>How familiar are you with mental health issues?</th>\n",
       "      <th>Which of these is a mental health illness you have heard of?</th>\n",
       "      <th>What does \"mental health\" mean to you?</th>\n",
       "      <th>Do you believe there is a stigma associated with mental health?</th>\n",
       "      <th>What role do you think social media has with the perceptions of mental health?</th>\n",
       "      <th>Which of these do you think is the most common misconception with mental health.</th>\n",
       "      <th>In your opinion, are there specific life events that could trigger mental health concerns?</th>\n",
       "      <th>Have you ever experienced a mental health disorder?</th>\n",
       "      <th>Has someone you know ever experienced a mental health disorder?</th>\n",
       "      <th>Where do you commonly see information about mental health?</th>\n",
       "      <th>Why do you think it is important to raise awareness for mental health?</th>\n",
       "      <th>Why do you think it is important to discuss mental health during significant life events?</th>\n",
       "      <th>Why do you think it is important for environments like work and school to raise awareness for mental health?</th>\n",
       "    </tr>\n",
       "  </thead>\n",
       "  <tbody>\n",
       "    <tr>\n",
       "      <th>0</th>\n",
       "      <td>1/23/2024 17:34:57</td>\n",
       "      <td>Employed full-time</td>\n",
       "      <td>46-55</td>\n",
       "      <td>Female</td>\n",
       "      <td>2</td>\n",
       "      <td>Anxiety Disorders, Depression, OCD(Obessive-co...</td>\n",
       "      <td>The state of being… how you mentally feel</td>\n",
       "      <td>Yes</td>\n",
       "      <td>Negative Impact</td>\n",
       "      <td>Mental health is a sign of weakness</td>\n",
       "      <td>Yes</td>\n",
       "      <td>Maybe</td>\n",
       "      <td>Yes</td>\n",
       "      <td>Social Media</td>\n",
       "      <td>To normalize mental health difficulties</td>\n",
       "      <td>To normalize the emotional aspects of major li...</td>\n",
       "      <td>To create a stigma free environment</td>\n",
       "    </tr>\n",
       "    <tr>\n",
       "      <th>1</th>\n",
       "      <td>1/23/2024 18:32:39</td>\n",
       "      <td>Student</td>\n",
       "      <td>18-25</td>\n",
       "      <td>Female</td>\n",
       "      <td>4</td>\n",
       "      <td>Anxiety Disorders, Depression, OCD(Obessive-co...</td>\n",
       "      <td>how you take care of your self</td>\n",
       "      <td>Yes</td>\n",
       "      <td>Negative Impact</td>\n",
       "      <td>Mental health is a sign of weakness</td>\n",
       "      <td>Yes</td>\n",
       "      <td>Yes</td>\n",
       "      <td>Yes</td>\n",
       "      <td>Social Media</td>\n",
       "      <td>To encourage seeking help</td>\n",
       "      <td>To provide support during challenging times</td>\n",
       "      <td>To create a stigma free environment</td>\n",
       "    </tr>\n",
       "    <tr>\n",
       "      <th>2</th>\n",
       "      <td>1/23/2024 18:36:24</td>\n",
       "      <td>Student</td>\n",
       "      <td>18-25</td>\n",
       "      <td>Female</td>\n",
       "      <td>3</td>\n",
       "      <td>Anxiety Disorders, Depression, OCD(Obessive-co...</td>\n",
       "      <td>What Mental health means to me is medically di...</td>\n",
       "      <td>Yes</td>\n",
       "      <td>Neutral</td>\n",
       "      <td>Mental health disorders are a choice</td>\n",
       "      <td>Yes</td>\n",
       "      <td>Maybe</td>\n",
       "      <td>Yes</td>\n",
       "      <td>Social Media</td>\n",
       "      <td>To encourage seeking help</td>\n",
       "      <td>To raise awareness about the impact on mental ...</td>\n",
       "      <td>To encourage open communication about mental h...</td>\n",
       "    </tr>\n",
       "    <tr>\n",
       "      <th>3</th>\n",
       "      <td>1/23/2024 18:36:35</td>\n",
       "      <td>Student</td>\n",
       "      <td>18-25</td>\n",
       "      <td>Female</td>\n",
       "      <td>4</td>\n",
       "      <td>Anxiety Disorders, Depression, OCD(Obessive-co...</td>\n",
       "      <td>Health and caring for the brain</td>\n",
       "      <td>Yes</td>\n",
       "      <td>Negative Impact</td>\n",
       "      <td>Mental health disorders are a choice</td>\n",
       "      <td>Yes</td>\n",
       "      <td>Yes</td>\n",
       "      <td>Yes</td>\n",
       "      <td>Work/School</td>\n",
       "      <td>To normalize mental health difficulties</td>\n",
       "      <td>To normalize the emotional aspects of major li...</td>\n",
       "      <td>To support the mental well-being of students/e...</td>\n",
       "    </tr>\n",
       "    <tr>\n",
       "      <th>4</th>\n",
       "      <td>1/23/2024 19:29:37</td>\n",
       "      <td>Employed part-time</td>\n",
       "      <td>18-25</td>\n",
       "      <td>Female</td>\n",
       "      <td>3</td>\n",
       "      <td>Anxiety Disorders, Depression, OCD(Obessive-co...</td>\n",
       "      <td>The well being of one’s mind.</td>\n",
       "      <td>Yes</td>\n",
       "      <td>Negative Impact</td>\n",
       "      <td>Mental health illnesses are rare</td>\n",
       "      <td>Yes</td>\n",
       "      <td>Yes</td>\n",
       "      <td>Yes</td>\n",
       "      <td>Social Media</td>\n",
       "      <td>To encourage seeking help</td>\n",
       "      <td>To normalize the emotional aspects of major li...</td>\n",
       "      <td>To support the mental well-being of students/e...</td>\n",
       "    </tr>\n",
       "  </tbody>\n",
       "</table>\n",
       "</div>"
      ],
      "text/plain": [
       "            Timestamp What is your current employment status?  \\\n",
       "0  1/23/2024 17:34:57                      Employed full-time   \n",
       "1  1/23/2024 18:32:39                                 Student   \n",
       "2  1/23/2024 18:36:24                                 Student   \n",
       "3  1/23/2024 18:36:35                                 Student   \n",
       "4  1/23/2024 19:29:37                      Employed part-time   \n",
       "\n",
       "  What is your age? What is your gender?  \\\n",
       "0             46-55               Female   \n",
       "1             18-25               Female   \n",
       "2             18-25               Female   \n",
       "3             18-25               Female   \n",
       "4             18-25               Female   \n",
       "\n",
       "   How familiar are you with mental health issues?  \\\n",
       "0                                                2   \n",
       "1                                                4   \n",
       "2                                                3   \n",
       "3                                                4   \n",
       "4                                                3   \n",
       "\n",
       "  Which of these is a mental health illness you have heard of?  \\\n",
       "0  Anxiety Disorders, Depression, OCD(Obessive-co...             \n",
       "1  Anxiety Disorders, Depression, OCD(Obessive-co...             \n",
       "2  Anxiety Disorders, Depression, OCD(Obessive-co...             \n",
       "3  Anxiety Disorders, Depression, OCD(Obessive-co...             \n",
       "4  Anxiety Disorders, Depression, OCD(Obessive-co...             \n",
       "\n",
       "              What does \"mental health\" mean to you?  \\\n",
       "0         The state of being… how you mentally feel    \n",
       "1                     how you take care of your self   \n",
       "2  What Mental health means to me is medically di...   \n",
       "3                    Health and caring for the brain   \n",
       "4                     The well being of one’s mind.    \n",
       "\n",
       "  Do you believe there is a stigma associated with mental health?  \\\n",
       "0                                                Yes                \n",
       "1                                                Yes                \n",
       "2                                                Yes                \n",
       "3                                                Yes                \n",
       "4                                                Yes                \n",
       "\n",
       "  What role do you think social media has with the perceptions of mental health?  \\\n",
       "0                                    Negative Impact                               \n",
       "1                                    Negative Impact                               \n",
       "2                                            Neutral                               \n",
       "3                                    Negative Impact                               \n",
       "4                                    Negative Impact                               \n",
       "\n",
       "  Which of these do you think is the most common misconception with mental health.  \\\n",
       "0                Mental health is a sign of weakness                                 \n",
       "1                Mental health is a sign of weakness                                 \n",
       "2               Mental health disorders are a choice                                 \n",
       "3               Mental health disorders are a choice                                 \n",
       "4                   Mental health illnesses are rare                                 \n",
       "\n",
       "  In your opinion, are there specific life events that could trigger mental health concerns?  \\\n",
       "0                                                Yes                                           \n",
       "1                                                Yes                                           \n",
       "2                                                Yes                                           \n",
       "3                                                Yes                                           \n",
       "4                                                Yes                                           \n",
       "\n",
       "  Have you ever experienced a mental health disorder?  \\\n",
       "0                                              Maybe    \n",
       "1                                                Yes    \n",
       "2                                              Maybe    \n",
       "3                                                Yes    \n",
       "4                                                Yes    \n",
       "\n",
       "  Has someone you know ever experienced a mental health disorder?  \\\n",
       "0                                                Yes                \n",
       "1                                                Yes                \n",
       "2                                                Yes                \n",
       "3                                                Yes                \n",
       "4                                                Yes                \n",
       "\n",
       "  Where do you commonly see information about mental health?  \\\n",
       "0                                       Social Media           \n",
       "1                                       Social Media           \n",
       "2                                       Social Media           \n",
       "3                                        Work/School           \n",
       "4                                       Social Media           \n",
       "\n",
       "  Why do you think it is important to raise awareness for mental health?  \\\n",
       "0            To normalize mental health difficulties                       \n",
       "1                          To encourage seeking help                       \n",
       "2                          To encourage seeking help                       \n",
       "3            To normalize mental health difficulties                       \n",
       "4                          To encourage seeking help                       \n",
       "\n",
       "  Why do you think it is important to discuss mental health during significant life events?  \\\n",
       "0  To normalize the emotional aspects of major li...                                          \n",
       "1        To provide support during challenging times                                          \n",
       "2  To raise awareness about the impact on mental ...                                          \n",
       "3  To normalize the emotional aspects of major li...                                          \n",
       "4  To normalize the emotional aspects of major li...                                          \n",
       "\n",
       "  Why do you think it is important for environments like work and school to raise awareness for mental health?  \n",
       "0                To create a stigma free environment                                                            \n",
       "1                To create a stigma free environment                                                            \n",
       "2  To encourage open communication about mental h...                                                            \n",
       "3  To support the mental well-being of students/e...                                                            \n",
       "4  To support the mental well-being of students/e...                                                            "
      ]
     },
     "execution_count": 4,
     "metadata": {},
     "output_type": "execute_result"
    }
   ],
   "source": [
    "testDF = rawSurveyDF\n",
    "testDF.head()"
   ]
  },
  {
   "cell_type": "code",
   "execution_count": 5,
   "metadata": {},
   "outputs": [
    {
     "data": {
      "text/plain": [
       "23"
      ]
     },
     "execution_count": 5,
     "metadata": {},
     "output_type": "execute_result"
    }
   ],
   "source": [
    "# the total numbers of entries in the dataset\n",
    "total = len(testDF)\n",
    "total"
   ]
  },
  {
   "cell_type": "code",
   "execution_count": 6,
   "metadata": {},
   "outputs": [],
   "source": [
    "# Function to display percentages\n",
    "def showPercentages(group,groupLabels):\n",
    "    print(\"Percentage of each option:\")\n",
    "    for label in groupLabels:\n",
    "        percentage = round((group[label]/total)*100,1)\n",
    "        \n",
    "        print(f\" {label}: {percentage}%\")\n"
   ]
  },
  {
   "cell_type": "markdown",
   "metadata": {},
   "source": [
    "This section will discuss the percentages associated with the who questions?"
   ]
  },
  {
   "cell_type": "code",
   "execution_count": 7,
   "metadata": {},
   "outputs": [],
   "source": [
    "testDF[\"What is your current employment status?\"]=testDF[\"What is your current employment status?\"].str.strip()"
   ]
  },
  {
   "cell_type": "code",
   "execution_count": 8,
   "metadata": {},
   "outputs": [
    {
     "data": {
      "text/plain": [
       "What is your current employment status?\n",
       "Employed full-time    11\n",
       "Employed part-time     4\n",
       "Retired                2\n",
       "Student                5\n",
       "Unemployed             1\n",
       "dtype: int64"
      ]
     },
     "execution_count": 8,
     "metadata": {},
     "output_type": "execute_result"
    }
   ],
   "source": [
    "employmentGroup = testDF.groupby(\"What is your current employment status?\").size()\n",
    "employmentGroup"
   ]
  },
  {
   "cell_type": "code",
   "execution_count": 9,
   "metadata": {},
   "outputs": [
    {
     "name": "stdout",
     "output_type": "stream",
     "text": [
      "Percentage of each option:\n",
      " Employed full-time: 47.8%\n",
      " Employed part-time: 17.4%\n",
      " Retired: 8.7%\n",
      " Student: 21.7%\n",
      " Unemployed: 4.3%\n"
     ]
    }
   ],
   "source": [
    "# Finding the percentage of full time\n",
    "employmentLabels=[\"Employed full-time\",\"Employed part-time\",\"Retired\",\"Student\",\"Unemployed\"]\n",
    "showPercentages(employmentGroup,employmentLabels)"
   ]
  },
  {
   "cell_type": "code",
   "execution_count": 10,
   "metadata": {},
   "outputs": [
    {
     "data": {
      "text/plain": [
       "What is your age?\n",
       "18-25           10\n",
       "26-35            1\n",
       "36-45            3\n",
       "46-55            5\n",
       "56 and older     4\n",
       "dtype: int64"
      ]
     },
     "execution_count": 10,
     "metadata": {},
     "output_type": "execute_result"
    }
   ],
   "source": [
    "ageGroup = testDF.groupby(\"What is your age?\").size()\n",
    "ageGroup"
   ]
  },
  {
   "cell_type": "code",
   "execution_count": 11,
   "metadata": {},
   "outputs": [
    {
     "name": "stdout",
     "output_type": "stream",
     "text": [
      "Percentage of each option:\n",
      " 18-25: 43.5%\n",
      " 26-35: 4.3%\n",
      " 36-45: 13.0%\n",
      " 46-55: 21.7%\n",
      " 56 and older: 17.4%\n"
     ]
    }
   ],
   "source": [
    "# Finding the percentage of 18-25\n",
    "ageLabels =[\"18-25\",\"26-35\",\"36-45\",\"46-55\",\"56 and older\"]\n",
    "showPercentages(ageGroup,ageLabels)"
   ]
  },
  {
   "cell_type": "code",
   "execution_count": 12,
   "metadata": {},
   "outputs": [
    {
     "data": {
      "text/plain": [
       "What is your gender?\n",
       "Female    18\n",
       "Male       5\n",
       "dtype: int64"
      ]
     },
     "execution_count": 12,
     "metadata": {},
     "output_type": "execute_result"
    }
   ],
   "source": [
    "genderGroup = testDF.groupby(\"What is your gender?\").size()\n",
    "genderGroup"
   ]
  },
  {
   "cell_type": "code",
   "execution_count": 13,
   "metadata": {},
   "outputs": [
    {
     "name": "stdout",
     "output_type": "stream",
     "text": [
      "Percentage of each option:\n",
      " Female: 78.3%\n",
      " Male: 21.7%\n"
     ]
    }
   ],
   "source": [
    "genderLabels = [\"Female\", \"Male\"]\n",
    "showPercentages(genderGroup,genderLabels)"
   ]
  },
  {
   "cell_type": "markdown",
   "metadata": {},
   "source": [
    "*********************************************************************************************************************************************************"
   ]
  },
  {
   "cell_type": "markdown",
   "metadata": {},
   "source": [
    "This section will analyze the what questions."
   ]
  },
  {
   "cell_type": "code",
   "execution_count": 14,
   "metadata": {},
   "outputs": [
    {
     "name": "stdout",
     "output_type": "stream",
     "text": [
      "Percentage of familiarity with mental health issues 1-5. 2: 13.0%\n",
      "Percentage of familiarity with mental health issues 1-5. 3: 17.4%\n",
      "Percentage of familiarity with mental health issues 1-5. 4: 30.4%\n",
      "Percentage of familiarity with mental health issues 1-5. 5: 39.1%\n"
     ]
    }
   ],
   "source": [
    "scaleLabels = [2,3,4,5]\n",
    "for label in scaleLabels:\n",
    "    aDF = testDF.loc[testDF[\"How familiar are you with mental health issues?\"] == label]\n",
    "    count = aDF[\"How familiar are you with mental health issues?\"].size \n",
    "    percentage = round((count/total)  * 100,1)\n",
    "    print(f\"Percentage of familiarity with mental health issues 1-5. {label}: {percentage}%\")\n"
   ]
  },
  {
   "cell_type": "code",
   "execution_count": 15,
   "metadata": {},
   "outputs": [
    {
     "name": "stdout",
     "output_type": "stream",
     "text": [
      "Percentage of known mental illnesses. Anxiety Disorders: 95.7%\n",
      "Percentage of known mental illnesses. Depression: 100.0%\n",
      "Percentage of known mental illnesses. OCD: 100.0%\n",
      "Percentage of known mental illnesses. Bipolar Disorder: 100.0%\n",
      "Percentage of known mental illnesses. Schizophrenia: 100.0%\n",
      "Percentage of known mental illnesses. PTSD: 100.0%\n",
      "Percentage of known mental illnesses. Eating Disorder: 100.0%\n"
     ]
    }
   ],
   "source": [
    "multiLabels = [\"Anxiety Disorders\",\"Depression\", \"OCD\",\"Bipolar Disorder\", \"Schizophrenia\",\"PTSD\",\"Eating Disorder\"]\n",
    "for label in multiLabels:\n",
    "    aDF = testDF.loc[testDF[\"Which of these is a mental health illness you have heard of?\"].str.contains(label)]\n",
    "    count = aDF[\"Which of these is a mental health illness you have heard of?\"].size \n",
    "    percentage = round((count/total)  * 100,1)\n",
    "    print(f\"Percentage of known mental illnesses. {label}: {percentage}%\")\n"
   ]
  },
  {
   "cell_type": "markdown",
   "metadata": {},
   "source": [
    "*********************************************************************************************************************************************************"
   ]
  },
  {
   "cell_type": "markdown",
   "metadata": {},
   "source": [
    "This section will discuss the when questions."
   ]
  },
  {
   "cell_type": "code",
   "execution_count": 16,
   "metadata": {},
   "outputs": [
    {
     "name": "stdout",
     "output_type": "stream",
     "text": [
      "Percentage of each option:\n",
      " Yes: 82.6%\n",
      " No: 13.0%\n",
      " Other: 4.3%\n"
     ]
    }
   ],
   "source": [
    "# percentage of people saying there is a stigma with mental health\n",
    "stigmaGroup = testDF.groupby(\"Do you believe there is a stigma associated with mental health?\").size()\n",
    "stigmaLabels = [\"Yes\", \"No\",\"Other\"]\n",
    "showPercentages(stigmaGroup,stigmaLabels)"
   ]
  },
  {
   "cell_type": "code",
   "execution_count": 17,
   "metadata": {},
   "outputs": [
    {
     "data": {
      "text/plain": [
       "What role do you think social media has with the perceptions of mental health?\n",
       "Negative Impact    15\n",
       "Neutral             4\n",
       "Other               1\n",
       "Unsure              3\n",
       "dtype: int64"
      ]
     },
     "execution_count": 17,
     "metadata": {},
     "output_type": "execute_result"
    }
   ],
   "source": [
    "sMGroup = testDF.groupby(\"What role do you think social media has with the perceptions of mental health?\").size()\n",
    "sMGroup"
   ]
  },
  {
   "cell_type": "code",
   "execution_count": 18,
   "metadata": {},
   "outputs": [
    {
     "name": "stdout",
     "output_type": "stream",
     "text": [
      "Percentage of each option:\n",
      " Negative Impact: 65.2%\n",
      " Neutral: 17.4%\n",
      " Other: 4.3%\n",
      " Unsure: 13.0%\n"
     ]
    }
   ],
   "source": [
    "#percentage of peoples opinions on social media impact on mental health\n",
    "sMGroup = testDF.groupby(\"What role do you think social media has with the perceptions of mental health?\").size()\n",
    "sMGroup\n",
    "sMLabels = [\"Negative Impact\",\"Neutral\",\"Other\",\"Unsure\"]\n",
    "showPercentages(sMGroup,sMLabels)"
   ]
  },
  {
   "cell_type": "code",
   "execution_count": 19,
   "metadata": {},
   "outputs": [
    {
     "name": "stdout",
     "output_type": "stream",
     "text": [
      "Percentage of each option:\n",
      " Mental health is a sign of weakness: 43.5%\n",
      " Mental health problems cannot be treated: 13.0%\n",
      " Mental health disorders are a choice: 21.7%\n",
      " Mental health disorders are genetic: 4.3%\n",
      " Mental health illnesses are rare: 13.0%\n",
      " Other: 4.3%\n"
     ]
    }
   ],
   "source": [
    "# percentages of people opinions on most common misconceptions with mental health.\n",
    "cMGroup = testDF.groupby(\"Which of these do you think is the most common misconception with mental health.\").size()\n",
    "cMGroup\n",
    "cMLabels = [\"Mental health is a sign of weakness\",\n",
    "            \"Mental health problems cannot be treated\",\n",
    "            \"Mental health disorders are a choice\",\n",
    "            \"Mental health disorders are genetic\",\n",
    "            \"Mental health illnesses are rare\",\n",
    "            \"Other\"]\n",
    "showPercentages(cMGroup,cMLabels)"
   ]
  },
  {
   "cell_type": "markdown",
   "metadata": {},
   "source": [
    "****************************************************************************"
   ]
  },
  {
   "cell_type": "markdown",
   "metadata": {},
   "source": [
    "This section will analyze the where questions"
   ]
  },
  {
   "cell_type": "code",
   "execution_count": 20,
   "metadata": {},
   "outputs": [
    {
     "name": "stdout",
     "output_type": "stream",
     "text": [
      "Percentage of each option:\n",
      " Yes: 95.7%\n",
      " No: 4.3%\n"
     ]
    }
   ],
   "source": [
    "# percentage of people that think there are life events that could trigger mental healt\n",
    "lEGroup = testDF.groupby(\"In your opinion, are there specific life events that could trigger mental health concerns?\").size()\n",
    "lEGroup\n",
    "lELabels = [\"Yes\",\"No\"]\n",
    "showPercentages(lEGroup,lELabels)"
   ]
  },
  {
   "cell_type": "code",
   "execution_count": 21,
   "metadata": {},
   "outputs": [
    {
     "name": "stdout",
     "output_type": "stream",
     "text": [
      "Percentage of each option:\n",
      " Yes: 47.8%\n",
      " No: 26.1%\n",
      " Maybe: 21.7%\n",
      " Other: 4.3%\n"
     ]
    }
   ],
   "source": [
    "# percentage of people that have experienced a mental health disorder\n",
    "mHGroup = testDF.groupby(\"Have you ever experienced a mental health disorder?\").size()\n",
    "mHGroup\n",
    "mHLabels = [\"Yes\",\"No\",\"Maybe\",\"Other\"]\n",
    "showPercentages(mHGroup,mHLabels)"
   ]
  },
  {
   "cell_type": "code",
   "execution_count": 22,
   "metadata": {},
   "outputs": [
    {
     "name": "stdout",
     "output_type": "stream",
     "text": [
      "Percentage of each option:\n",
      " Yes: 91.3%\n",
      " No: 8.7%\n"
     ]
    }
   ],
   "source": [
    "# percentage of people that know someone who has experienced a mental health disorder\n",
    "mHKGroup = testDF.groupby(\"Has someone you know ever experienced a mental health disorder?\").size()\n",
    "mHKGroup\n",
    "mHKLabels = [\"Yes\",\"No\"]\n",
    "showPercentages(mHKGroup,mHKLabels)"
   ]
  },
  {
   "cell_type": "code",
   "execution_count": 23,
   "metadata": {},
   "outputs": [
    {
     "name": "stdout",
     "output_type": "stream",
     "text": [
      "Percentage of each option:\n",
      " Social Media: 60.9%\n",
      " Healthcare Professionals: 30.4%\n",
      " Work/School: 8.7%\n"
     ]
    }
   ],
   "source": [
    "# percentage of where people commonly see information about mental health.\n",
    "sMHGroup = testDF.groupby(\"Where do you commonly see information about mental health?\").size()\n",
    "sMHGroup\n",
    "sMHLabels = [\"Social Media\",\"Healthcare Professionals\",\"Work/School\"]\n",
    "showPercentages(sMHGroup,sMHLabels)"
   ]
  },
  {
   "cell_type": "markdown",
   "metadata": {},
   "source": [
    "****************************************************************************"
   ]
  },
  {
   "cell_type": "markdown",
   "metadata": {},
   "source": [
    "This section will analyze the why questions"
   ]
  },
  {
   "cell_type": "code",
   "execution_count": 24,
   "metadata": {},
   "outputs": [
    {
     "name": "stdout",
     "output_type": "stream",
     "text": [
      "Percentage of each option:\n",
      " Other: 8.7%\n",
      " To encourage seeking help: 43.5%\n",
      " To help more people understand: 26.1%\n",
      " To normalize mental health difficulties: 17.4%\n",
      " To reduce stigma: 4.3%\n"
     ]
    }
   ],
   "source": [
    "rAGroup = testDF.groupby(\"Why do you think it is important to raise awareness for mental health?\").size()\n",
    "rAGroup\n",
    "rALabels = [\"Other\",\"To encourage seeking help\",\"To help more people understand\",\"To normalize mental health difficulties\",\"To reduce stigma\"]\n",
    "showPercentages(rAGroup,rALabels)"
   ]
  },
  {
   "cell_type": "code",
   "execution_count": 25,
   "metadata": {},
   "outputs": [
    {
     "name": "stdout",
     "output_type": "stream",
     "text": [
      "Percentage of each option:\n",
      " To provide support during challenging times: 39.1%\n",
      " To normalize the emotional aspects of major life events: 26.1%\n",
      " To raise awareness about the impact on mental health by life events: 34.8%\n"
     ]
    }
   ],
   "source": [
    "sLGroup = testDF.groupby(\"Why do you think it is important to discuss mental health during significant life events?\").size()\n",
    "sLGroup\n",
    "sLLabels = [\"To provide support during challenging times\", \"To normalize the emotional aspects of major life events\", \"To raise awareness about the impact on mental health by life events\"]\n",
    "showPercentages(sLGroup,sLLabels)"
   ]
  },
  {
   "cell_type": "code",
   "execution_count": 26,
   "metadata": {},
   "outputs": [
    {
     "name": "stdout",
     "output_type": "stream",
     "text": [
      "Percentage of each option:\n",
      " To support the mental well-being of students/employees: 43.5%\n",
      " To educate students/employees about mental health: 17.4%\n",
      " To create a stigma free environment: 8.7%\n",
      " To encourage open communication about mental health: 30.4%\n"
     ]
    }
   ],
   "source": [
    "wSGroup = testDF.groupby(\"Why do you think it is important for environments like work and school to raise awareness for mental health?\").size()\n",
    "wSGroup\n",
    "wSLabels = [\"To support the mental well-being of students/employees\",\n",
    "            \"To educate students/employees about mental health\",\n",
    "            \"To create a stigma free environment\",\n",
    "            \"To encourage open communication about mental health\"]\n",
    "showPercentages(wSGroup,wSLabels)"
   ]
  }
 ],
 "metadata": {
  "kernelspec": {
   "display_name": "base",
   "language": "python",
   "name": "python3"
  },
  "language_info": {
   "codemirror_mode": {
    "name": "ipython",
    "version": 3
   },
   "file_extension": ".py",
   "mimetype": "text/x-python",
   "name": "python",
   "nbconvert_exporter": "python",
   "pygments_lexer": "ipython3",
   "version": "3.11.5"
  }
 },
 "nbformat": 4,
 "nbformat_minor": 2
}
